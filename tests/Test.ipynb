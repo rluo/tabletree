{
 "cells": [
  {
   "cell_type": "code",
   "execution_count": 1,
   "metadata": {
    "ExecuteTime": {
     "end_time": "2019-11-09T19:40:13.892809Z",
     "start_time": "2019-11-09T19:40:13.296494Z"
    }
   },
   "outputs": [],
   "source": [
    "from tabletree import TableLink, TableNode, TableTree\n",
    "import pandas as pd"
   ]
  },
  {
   "cell_type": "code",
   "execution_count": 2,
   "metadata": {
    "ExecuteTime": {
     "end_time": "2019-11-09T19:40:13.902627Z",
     "start_time": "2019-11-09T19:40:13.894626Z"
    }
   },
   "outputs": [
    {
     "data": {
      "text/plain": [
       "tabletree.tabletree.TableTree"
      ]
     },
     "execution_count": 2,
     "metadata": {},
     "output_type": "execute_result"
    }
   ],
   "source": [
    "TableTree"
   ]
  },
  {
   "cell_type": "code",
   "execution_count": 3,
   "metadata": {
    "ExecuteTime": {
     "end_time": "2019-11-09T19:40:15.983399Z",
     "start_time": "2019-11-09T19:40:15.972179Z"
    }
   },
   "outputs": [],
   "source": [
    "tab1_list = list( zip([1,2,3,4], ['M', 'F', 'M', 'F'] ) )\n",
    "tab2_list = list( zip(  [1,2,3,4], ['red', 'green', 'yellow', 'blue'] ) )\n",
    "tab3_list = list( zip(  ['red', 'green', 'yellow', 'blue'], ['apple', 'grape', 'banana', 'berry'] ) )\n",
    "tab4_list = list( zip(  [1,2,3,4], ['swimming', 'football', 'piano', 'painting'] ) )\n",
    "tab1 = pd.DataFrame( tab1_list,   columns = ['tab1_v1', 'tab1_v2'])\n",
    "tab2 = pd.DataFrame( tab2_list,   columns = ['tab2_v1', 'tab2_v2'])\n",
    "tab3 = pd.DataFrame( tab3_list,   columns = ['tab3_v1', 'tab3_v2'])\n",
    "tab4 = pd.DataFrame( tab4_list,   columns = ['tab4_v1', 'tab4_v2'])\n",
    "tn1 = TableNode('sex', tab1)\n",
    "tn2 = TableNode('preference', tab2)\n",
    "tn3 = TableNode('fruit', tab3)\n",
    "tn4 = TableNode('hobby', tab4)"
   ]
  },
  {
   "cell_type": "code",
   "execution_count": 5,
   "metadata": {
    "ExecuteTime": {
     "end_time": "2019-11-09T19:40:26.596800Z",
     "start_time": "2019-11-09T19:40:26.593133Z"
    }
   },
   "outputs": [],
   "source": [
    "ttree = TableTree(tn1)\n",
    "ttree.addChildren(tn2, TableLink('tab1_v1', 'tab2_v1'))"
   ]
  },
  {
   "cell_type": "code",
   "execution_count": 6,
   "metadata": {
    "ExecuteTime": {
     "end_time": "2019-11-09T19:40:35.679409Z",
     "start_time": "2019-11-09T19:40:35.674602Z"
    }
   },
   "outputs": [
    {
     "name": "stdout",
     "output_type": "stream",
     "text": [
      "['sex', 'hobby']\n"
     ]
    }
   ],
   "source": [
    "ttree.addChildren(tn3, TableLink('tab2_v2', 'tab3_v1'))\n",
    "ttree.addTN('sex', tn4, TableLink('tab1_v1', 'tab4_v1'))\n",
    "print(ttree.getAncestors('hobby'))"
   ]
  },
  {
   "cell_type": "code",
   "execution_count": 7,
   "metadata": {
    "ExecuteTime": {
     "end_time": "2019-11-09T19:40:47.500850Z",
     "start_time": "2019-11-09T19:40:47.484625Z"
    }
   },
   "outputs": [
    {
     "name": "stdout",
     "output_type": "stream",
     "text": [
      "   tab4_v1   tab4_v2\n",
      "0        1  swimming\n",
      "2        3     piano\n"
     ]
    }
   ],
   "source": [
    "ttree.findMatched('fruit', 'sex', tn1.df.tab1_v2 == 'M')\n",
    "print( ttree.findMatched('hobby', 'sex', tn1.df.tab1_v2 == 'M') )"
   ]
  },
  {
   "cell_type": "code",
   "execution_count": 13,
   "metadata": {
    "ExecuteTime": {
     "end_time": "2019-11-09T19:49:33.561664Z",
     "start_time": "2019-11-09T19:49:33.558173Z"
    }
   },
   "outputs": [
    {
     "name": "stdout",
     "output_type": "stream",
     "text": [
      "['sex', [['preference', [['fruit']]], ['hobby']]]\n"
     ]
    }
   ],
   "source": [
    "print(ttree)"
   ]
  },
  {
   "cell_type": "code",
   "execution_count": 11,
   "metadata": {
    "ExecuteTime": {
     "end_time": "2019-11-09T19:46:17.828020Z",
     "start_time": "2019-11-09T19:46:17.824278Z"
    }
   },
   "outputs": [
    {
     "name": "stdout",
     "output_type": "stream",
     "text": [
      "[\"sex\", [[\"preference\", [[\"fruit\"]]], [\"hobby\"]]]\n"
     ]
    }
   ],
   "source": [
    "import json\n",
    "print(json.dumps( ttree.print() ) )"
   ]
  },
  {
   "cell_type": "code",
   "execution_count": 12,
   "metadata": {
    "ExecuteTime": {
     "end_time": "2019-11-09T19:46:22.959218Z",
     "start_time": "2019-11-09T19:46:22.954879Z"
    }
   },
   "outputs": [
    {
     "name": "stdout",
     "output_type": "stream",
     "text": [
      "['sex', [['preference', [['fruit']]], ['hobby']]]\n"
     ]
    }
   ],
   "source": [
    "import pprint\n",
    "pp = pprint.PrettyPrinter(indent=4)\n",
    "pp.pprint(ttree.print())"
   ]
  },
  {
   "cell_type": "code",
   "execution_count": null,
   "metadata": {},
   "outputs": [],
   "source": []
  }
 ],
 "metadata": {
  "kernelspec": {
   "display_name": "Python 3",
   "language": "python",
   "name": "python3"
  },
  "language_info": {
   "codemirror_mode": {
    "name": "ipython",
    "version": 3
   },
   "file_extension": ".py",
   "mimetype": "text/x-python",
   "name": "python",
   "nbconvert_exporter": "python",
   "pygments_lexer": "ipython3",
   "version": "3.7.3"
  },
  "toc": {
   "base_numbering": 1,
   "nav_menu": {},
   "number_sections": true,
   "sideBar": true,
   "skip_h1_title": false,
   "title_cell": "Table of Contents",
   "title_sidebar": "Contents",
   "toc_cell": false,
   "toc_position": {},
   "toc_section_display": true,
   "toc_window_display": false
  }
 },
 "nbformat": 4,
 "nbformat_minor": 2
}
